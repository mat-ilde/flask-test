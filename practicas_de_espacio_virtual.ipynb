{
 "cells": [
  {
   "cell_type": "code",
   "execution_count": 10,
   "metadata": {},
   "outputs": [
    {
     "name": "stdout",
     "output_type": "stream",
     "text": [
      "4\n"
     ]
    }
   ],
   "source": [
    "''' Función para obtener números de manera random'''\n",
    "def get_random_number():\n",
    "    import random\n",
    "    number=random.randrange(10)\n",
    "    return number\n",
    "random_number=get_random_number()\n",
    "print(random_number)\n"
   ]
  },
  {
   "cell_type": "code",
   "execution_count": 40,
   "metadata": {},
   "outputs": [],
   "source": [
    "''' Esto es una función que cree usando flask para obtener según si el número par \n",
    "o impar de manera random cara o cruz.'''\n",
    "from app import app\n",
    "@app.route('/')\n",
    "def index():\n",
    "    cara_o_cruz=get_the_word_by_numbers()\n",
    "    html_string='''<!DOCTYPE html>\n",
    "                    <html>\n",
    "                    <body>\n",
    "                    <h1>Bienvenido a Masex tu resultado ha sido: '''+cara_o_cruz+'''</h1>\n",
    "                    </body>\n",
    "                    </html>'''\n",
    "    return html_string\n",
    "\n",
    "def get_random_number():\n",
    "    import random\n",
    "    number=random.randrange(10)\n",
    "    return number\n",
    "\n",
    "def get_the_word_by_numbers():\n",
    "    random_number=get_random_number()\n",
    "    if random_number==random_number%2:\n",
    "        return(\"Cara\")\n",
    "    return (\"Cruz\")\n",
    "\n",
    "\n",
    "''' para verla desde aquí hay q poner los respectivos prints'''\n",
    "    \n"
   ]
  },
  {
   "cell_type": "code",
   "execution_count": 39,
   "metadata": {},
   "outputs": [
    {
     "name": "stdout",
     "output_type": "stream",
     "text": [
      "6\n"
     ]
    }
   ],
   "source": [
    "''' Usando seed puedo obtener una  misma secuencia de nùmeros random,según el rango\n",
    "de números que quiero obtener, por ejemplo 10= hasta q número me de esa secuencia\n",
    "de números. Y lo que está al lado de seed() según el número me dará una secuencia \n",
    "distinta, da igual las cifras del número mientras sea un entero.'''\n",
    "import random\n",
    "random.seed(0)\n",
    "print(random.randrange(10))"
   ]
  },
  {
   "cell_type": "code",
   "execution_count": 25,
   "metadata": {},
   "outputs": [
    {
     "data": {
      "text/plain": [
       "Counter({6: 103,\n",
       "         0: 105,\n",
       "         4: 102,\n",
       "         8: 87,\n",
       "         7: 107,\n",
       "         5: 98,\n",
       "         9: 92,\n",
       "         3: 94,\n",
       "         2: 92,\n",
       "         1: 120})"
      ]
     },
     "execution_count": 25,
     "metadata": {},
     "output_type": "execute_result"
    }
   ],
   "source": [
    "''' En este caso cree una lista vacía, para agregar los números random.\n",
    "1000= al número de veces que saldrà en total todos los números del 1-9\n",
    " y el from= para contar las veces que sale cada uno.'''\n",
    "random_numbers = []\n",
    "random.seed(0)\n",
    "for i in range(1000):\n",
    "    random_numbers.append(random.randrange(10))\n",
    "from collections import Counter\n",
    "Counter(random_numbers)  "
   ]
  },
  {
   "cell_type": "code",
   "execution_count": 38,
   "metadata": {},
   "outputs": [
    {
     "name": "stdout",
     "output_type": "stream",
     "text": [
      "Cruz\n"
     ]
    }
   ],
   "source": [
    "''' Esta función es para obtener palabras que pongamos hardcodeadas de maneera random'''\n",
    "def get_random_word():\n",
    "    import random\n",
    "    choices=random.choice([\"Cara\", \"Cruz\" ])\n",
    "    return choices\n",
    "random_word=get_random_word()\n",
    "print(random_word)"
   ]
  },
  {
   "cell_type": "code",
   "execution_count": 35,
   "metadata": {},
   "outputs": [
    {
     "name": "stdout",
     "output_type": "stream",
     "text": [
      "derecha\n"
     ]
    }
   ],
   "source": [
    "''' Esta es para obtener de manera random derecha o izquierda'''\n",
    "def get_the_word_by_numbers():\n",
    "    random_number=get_random_number()\n",
    "    if random_number==random_number%2:\n",
    "        return(\"derecha\")\n",
    "    return (\"izquierda\")\n",
    "final_results=get_the_word_by_numbers()\n",
    "print(final_results)"
   ]
  },
  {
   "cell_type": "code",
   "execution_count": 36,
   "metadata": {
    "scrolled": true
   },
   "outputs": [
    {
     "name": "stdout",
     "output_type": "stream",
     "text": [
      "<!DOCTYPE html>\n",
      "                    <html>\n",
      "                    <body>\n",
      "                    <h1>Bienvenido a Masex tu apuesta ha sido: derecha</h1>\n",
      "                    </body>\n",
      "                    </html>\n"
     ]
    }
   ],
   "source": [
    "'''Esta es para crear una página web que en cuanto se abra,  dé la bienvenida,\n",
    "y no muestre usando la función anterior la palabra random de ese momento.'''\n",
    "#from app import app\n",
    "#@app.route('/')\n",
    "def index():\n",
    "    final_results=get_the_word_by_numbers()\n",
    "    html_string='''<!DOCTYPE html>\n",
    "                    <html>\n",
    "                    <body>\n",
    "                    <h1>Bienvenido a Masex tu apuesta ha sido: '''+final_results+'''</h1>\n",
    "                    </body>\n",
    "                    </html>'''\n",
    "    return html_string\n",
    "n=index()\n",
    "print(n)"
   ]
  },
  {
   "cell_type": "code",
   "execution_count": 37,
   "metadata": {},
   "outputs": [
    {
     "name": "stdout",
     "output_type": "stream",
     "text": [
      "19:48:37\n"
     ]
    }
   ],
   "source": [
    "''' Función para cuando entre a la página web se vea la hora actual'''\n",
    "def get_time():\n",
    "    actual_time=get_actual_time()\n",
    "    html_string='''<!DOCTYPE html>\n",
    "                    <html>\n",
    "                    <body>\n",
    "                    <h1>Bienvenido a Masex tu apuesta ha sido: '''+actual_time+'''</h1>\n",
    "                    </body>\n",
    "                    </html>'''\n",
    "    return html_string\n",
    "import time \n",
    "def get_actual_time():\n",
    "    hora=time.strftime(\"%H:%M:%S\")\n",
    "    return hora"
   ]
  }
 ],
 "metadata": {
  "kernelspec": {
   "display_name": "Python 3",
   "language": "python",
   "name": "python3"
  },
  "language_info": {
   "codemirror_mode": {
    "name": "ipython",
    "version": 3
   },
   "file_extension": ".py",
   "mimetype": "text/x-python",
   "name": "python",
   "nbconvert_exporter": "python",
   "pygments_lexer": "ipython3",
   "version": "3.6.9"
  }
 },
 "nbformat": 4,
 "nbformat_minor": 2
}
